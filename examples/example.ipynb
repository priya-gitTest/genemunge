{
 "cells": [
  {
   "cell_type": "code",
   "execution_count": null,
   "metadata": {},
   "outputs": [],
   "source": [
    "import json\n",
    "import numpy as np\n",
    "import pandas as pd\n",
    "import matplotlib.pyplot as plt\n",
    "%matplotlib inline\n",
    "\n",
    "import genemunge"
   ]
  },
  {
   "cell_type": "markdown",
   "metadata": {},
   "source": [
    "# Searching the gene ontology for relevant genes"
   ]
  },
  {
   "cell_type": "code",
   "execution_count": null,
   "metadata": {},
   "outputs": [],
   "source": [
    "# set up an object to search the gene ontology\n",
    "searcher = genemunge.search.Searcher()\n",
    "\n",
    "# get all of the GO identifiers associated with the word 'immune'\n",
    "# set exact = False to walk through the ontology and grab all child terms\n",
    "immune_identifiers = searcher.keyword_search(['immune'], exact=False)\n",
    "\n",
    "# get all of the genes assigned to the immune_identifiers\n",
    "immune_genes = searcher.get_genes(immune_identifiers)\n",
    "\n",
    "# get a list of housekeeping genes\n",
    "housekeeping = searcher.get_housekeeping_genes()\n",
    "\n",
    "# keep all of the immune related genes that are not housekeeping genes\n",
    "variable_immune_genes = list(set(immune_genes) - set(housekeeping))\n",
    "\n",
    "print('Identified {} variable immune related genes'.format(len(variable_immune_genes)))"
   ]
  },
  {
   "cell_type": "markdown",
   "metadata": {},
   "source": [
    "# Obtaining statistics about gene expression"
   ]
  },
  {
   "cell_type": "code",
   "execution_count": null,
   "metadata": {},
   "outputs": [],
   "source": [
    "# set up an object to describe genes\n",
    "describer = genemunge.describe.Describer('symbol')"
   ]
  },
  {
   "cell_type": "code",
   "execution_count": null,
   "metadata": {},
   "outputs": [],
   "source": [
    "# find the absolute and relative expression levels of each gene of interest\n",
    "expression_data = pd.DataFrame(index=variable_immune_genes,\n",
    "                               columns=['expression', 'log ratio'])\n",
    "\n",
    "# get the expression levels in healthy tissue (in TPM units)\n",
    "stats = describer.tissue_stats['median'].reindex(variable_immune_genes)\n",
    "expression_data['expression'] = stats['Small Intestine']\n",
    "\n",
    "# control the log with a small pseudocount\n",
    "pseudocount = 1.0\n",
    "expression_data['log ratio'] = np.log10(\n",
    "  (pseudocount + stats['Small Intestine']) / (pseudocount + stats['Stomach']))"
   ]
  },
  {
   "cell_type": "code",
   "execution_count": null,
   "metadata": {},
   "outputs": [],
   "source": [
    "# plot the gene expression fraction\n",
    "fig, ax = plt.subplots(figsize=(12, 8))\n",
    "plt.xticks(fontsize=16)\n",
    "plt.yticks(fontsize=16)\n",
    "\n",
    "ax.scatter(expression_data['expression'], expression_data['log ratio'])\n",
    "ax.set_xlabel('Small Intestine expression [TPM]', fontsize=20)\n",
    "ax.set_ylabel('log10 ratio (Small Intestine / Stomach)', fontsize=20)\n",
    "ax.set_xscale('log')\n",
    "ax.set_xlim([0.001, 1e5])\n",
    "ax.set_ylim([-3, 4])\n",
    "plt.savefig('small_intestine_example.png', bbox_inches='tight', dpi=300)\n",
    "plt.show()"
   ]
  },
  {
   "cell_type": "markdown",
   "metadata": {},
   "source": [
    "# Converting between gene identifier types"
   ]
  },
  {
   "cell_type": "code",
   "execution_count": null,
   "metadata": {},
   "outputs": [],
   "source": [
    "# set up an object to convert from ensembl to symbol\n",
    "ensembl_to_symbol = genemunge.convert.IDConverter('ensembl_gene_id', 'symbol')\n",
    "\n",
    "# convert the immune identifiers to gene symbols\n",
    "variable_immune_symbols = ensembl_to_symbol.convert_list(variable_immune_genes)\n",
    "\n",
    "# reset the index of the dataframe\n",
    "expression_data.index = variable_immune_symbols"
   ]
  },
  {
   "cell_type": "code",
   "execution_count": null,
   "metadata": {},
   "outputs": [],
   "source": [
    "target_genes = expression_data[expression_data['log ratio'] > 1]\n",
    "target_genes = target_genes.sort_values(by=['expression'], ascending=False)\n",
    "target_genes"
   ]
  },
  {
   "cell_type": "markdown",
   "metadata": {},
   "source": [
    "# Getting information about a specific gene"
   ]
  },
  {
   "cell_type": "code",
   "execution_count": null,
   "metadata": {},
   "outputs": [],
   "source": [
    "# set up an object to describe genes\n",
    "describer = genemunge.describe.Describer('symbol')\n",
    "\n",
    "# get some basic information about one of the immune genes\n",
    "print(json.dumps(describer.get_gene_info(target_genes.index[0]), indent=2))\n",
    "\n",
    "# make a plot of the expression of one of the immune genes across tissues from GTEx\n",
    "describer.plot_tissue_expression(target_genes.index[0], sortby='median',\n",
    "                                 filename='gene_expr_example.png')"
   ]
  },
  {
   "cell_type": "markdown",
   "metadata": {},
   "source": [
    "# Normalization"
   ]
  },
  {
   "cell_type": "code",
   "execution_count": null,
   "metadata": {},
   "outputs": [],
   "source": [
    "# set up an object to normalize genes\n",
    "normalizer = genemunge.normalize.Normalizer('ensembl_gene_id')\n",
    "trans_factor_ids = searcher.get_transcription_factors()"
   ]
  },
  {
   "cell_type": "code",
   "execution_count": null,
   "metadata": {},
   "outputs": [],
   "source": [
    "# make some fake brain expression data\n",
    "\n",
    "# get the expression levels in healthy tissue (in TPM units)\n",
    "mean_clr = describer.tissue_stats['mean_clr'].reindex(trans_factor_ids)\n",
    "std_clr = describer.tissue_stats['std_clr'].reindex(trans_factor_ids)\n",
    "brain_mean = mean_clr['Brain'].values\n",
    "brain_std = std_clr['Brain'].values\n",
    "num_samples = 10000\n",
    "\n",
    "# draw samples from a gaussian approximation\n",
    "draws = pd.DataFrame(np.multiply(brain_std, np.random.randn(num_samples, len(brain_mean))) + brain_mean,\n",
    "                     index=np.arange(num_samples), columns=trans_factor_ids)\n",
    "# make a tissues series with all 'Brain'\n",
    "tissues = pd.Series(np.full((num_samples,),'Brain'), index=np.arange(num_samples))\n",
    "\n",
    "# compute z-scores\n",
    "z_scores = normalizer.z_score_from_clr(draws, tissues, trans_factor_ids)\n",
    "\n",
    "# compute ternarized data\n",
    "ternary = normalizer.ternarize_from_clr(draws, tissues, 2.0, trans_factor_ids)"
   ]
  }
 ],
 "metadata": {
  "kernelspec": {
   "display_name": "Python 3",
   "language": "python",
   "name": "python3"
  },
  "language_info": {
   "codemirror_mode": {
    "name": "ipython",
    "version": 3
   },
   "file_extension": ".py",
   "mimetype": "text/x-python",
   "name": "python",
   "nbconvert_exporter": "python",
   "pygments_lexer": "ipython3",
   "version": "3.6.5"
  }
 },
 "nbformat": 4,
 "nbformat_minor": 2
}
