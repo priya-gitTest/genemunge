{
 "cells": [
  {
   "cell_type": "code",
   "execution_count": null,
   "metadata": {
    "collapsed": true
   },
   "outputs": [],
   "source": [
    "import genemunge\n",
    "import json\n",
    "import matplotlib\n",
    "%matplotlib inline"
   ]
  },
  {
   "cell_type": "markdown",
   "metadata": {},
   "source": [
    "# Searching for genes "
   ]
  },
  {
   "cell_type": "code",
   "execution_count": null,
   "metadata": {},
   "outputs": [],
   "source": [
    "# set up an object to search the gene ontology\n",
    "searcher = genemunge.search.Searcher()\n",
    "\n",
    "# get all of the GO categories associated with the word 'immune'\n",
    "# set exact = False to walk through the ontology and grab all child terms\n",
    "immune_categories = searcher.keyword_search(['immune'], exact=False)\n",
    "\n",
    "# get all of the genes assigned to the immune_categories\n",
    "immune_genes = searcher.get_genes(immune_categories)\n",
    "\n",
    "# get a list of housekeeping genes\n",
    "housekeeping = searcher.get_housekeeping_genes()\n",
    "\n",
    "# keep all of the immune related genes that are not housekeeping genes\n",
    "variable_immune_genes = list(set(immune_genes) - set(housekeeping))\n",
    "\n",
    "print('Identified {} variable immune related genes'.format(len(variable_immune_genes)))"
   ]
  },
  {
   "cell_type": "markdown",
   "metadata": {},
   "source": [
    "# Converting between identifier types"
   ]
  },
  {
   "cell_type": "code",
   "execution_count": null,
   "metadata": {},
   "outputs": [],
   "source": [
    "# set up an object to convert from ensembl to symbol\n",
    "ensembl_to_symbol = genemunge.convert.IDConverter('ensembl_gene_id', 'symbol')\n",
    "\n",
    "# convert the immune identifiers to gene symbols\n",
    "variable_immune_symbols = ensembl_to_symbol.convert_list(variable_immune_genes)"
   ]
  },
  {
   "cell_type": "markdown",
   "metadata": {},
   "source": [
    "# Getting information about a specific gene"
   ]
  },
  {
   "cell_type": "code",
   "execution_count": null,
   "metadata": {},
   "outputs": [],
   "source": [
    "# set up an object to describe genes\n",
    "describer = genemunge.describe.Describer('symbol')\n",
    "\n",
    "# get some basic information about one of the immune genes\n",
    "print(json.dumps(describer.get_gene_info(variable_immune_symbols[0]), indent=2))\n",
    "\n",
    "# make a plot of the expression of one of the immune genes across tissues from GTEx\n",
    "describer.plot_tissue_expression(variable_immune_symbols[0], sortby='median')"
   ]
  },
  {
   "cell_type": "code",
   "execution_count": null,
   "metadata": {
    "collapsed": true
   },
   "outputs": [],
   "source": []
  }
 ],
 "metadata": {
  "kernelspec": {
   "display_name": "Python 3",
   "language": "python",
   "name": "python3"
  },
  "language_info": {
   "codemirror_mode": {
    "name": "ipython",
    "version": 3
   },
   "file_extension": ".py",
   "mimetype": "text/x-python",
   "name": "python",
   "nbconvert_exporter": "python",
   "pygments_lexer": "ipython3",
   "version": "3.6.1"
  }
 },
 "nbformat": 4,
 "nbformat_minor": 2
}
