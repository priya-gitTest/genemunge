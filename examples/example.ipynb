{
 "cells": [
  {
   "cell_type": "code",
   "execution_count": null,
   "metadata": {},
   "outputs": [],
   "source": [
    "import json\n",
    "import numpy as np\n",
    "import pandas as pd\n",
    "import matplotlib.pyplot as plt\n",
    "%matplotlib inline\n",
    "\n",
    "import genemunge"
   ]
  },
  {
   "cell_type": "markdown",
   "metadata": {},
   "source": [
    "# Searching the gene ontology for relevant genes"
   ]
  },
  {
   "cell_type": "code",
   "execution_count": null,
   "metadata": {},
   "outputs": [],
   "source": [
    "# set up an object to search the gene ontology\n",
    "searcher = genemunge.search.Searcher()\n",
    "\n",
    "# get all of the GO identifiers associated with the word 'immune'\n",
    "# set exact = False to walk through the ontology and grab all child terms\n",
    "immune_identifiers = searcher.keyword_search(['immune'], exact=False)\n",
    "\n",
    "# get all of the genes assigned to the immune_identifiers\n",
    "immune_genes = searcher.get_genes(immune_identifiers)\n",
    "\n",
    "# get a list of housekeeping genes\n",
    "housekeeping = searcher.get_housekeeping_genes()\n",
    "\n",
    "# keep all of the immune related genes that are not housekeeping genes\n",
    "variable_immune_genes = list(set(immune_genes) - set(housekeeping))\n",
    "\n",
    "print('Identified {} variable immune related genes'.format(len(variable_immune_genes)))"
   ]
  },
  {
   "cell_type": "markdown",
   "metadata": {},
   "source": [
    "# Converting between gene identifier types"
   ]
  },
  {
   "cell_type": "code",
   "execution_count": null,
   "metadata": {},
   "outputs": [],
   "source": [
    "# set up an object to convert from ensembl to symbol\n",
    "ensembl_to_symbol = genemunge.convert.IDConverter('ensembl_gene_id', 'symbol')\n",
    "\n",
    "# convert the immune identifiers to gene symbols\n",
    "variable_immune_symbols = ensembl_to_symbol.convert_list(variable_immune_genes)"
   ]
  },
  {
   "cell_type": "markdown",
   "metadata": {},
   "source": [
    "# Obtaining statistics about gene expression"
   ]
  },
  {
   "cell_type": "code",
   "execution_count": null,
   "metadata": {},
   "outputs": [],
   "source": [
    "# set up an object to describe genes\n",
    "describer = genemunge.describe.Describer('symbol')"
   ]
  },
  {
   "cell_type": "code",
   "execution_count": null,
   "metadata": {},
   "outputs": [],
   "source": [
    "# find the absolute and relative expression levels of each gene of interest\n",
    "expression_data = pd.DataFrame(index=variable_immune_symbols,\n",
    "                               columns=['expression', 'log ratio'])\n",
    "for gene in variable_immune_symbols:\n",
    "    # get the expression levels in healthy tissue (in TPM units)\n",
    "    try:\n",
    "        stats = describer.get_tissue_expression(gene)\n",
    "        stomach_med = stats['median'].loc['Stomach']\n",
    "        small_intestine_med = stats['median'].loc['Small Intestine']\n",
    "    # some genes are not in GTEx - set expression to 0\n",
    "    except KeyError:\n",
    "        stomach_med = 0.0\n",
    "        small_intestine_med = 0.0\n",
    "    # control the log with a small pseudocount\n",
    "    pseudocount = 1.0\n",
    "    expr_ratio = (pseudocount+small_intestine_med) / (pseudocount+stomach_med)\n",
    "    expression_data.loc[gene] = [small_intestine_med, np.log10(expr_ratio)]"
   ]
  },
  {
   "cell_type": "code",
   "execution_count": null,
   "metadata": {},
   "outputs": [],
   "source": [
    "# plot the gene expression fraction\n",
    "fig, ax = plt.subplots(figsize=(12, 8))\n",
    "plt.xticks(fontsize=16)\n",
    "plt.yticks(fontsize=16)\n",
    "\n",
    "ax.scatter(expression_data['expression'], expression_data['log ratio'])\n",
    "ax.set_xlabel('Small Intestine expression [TPM]', fontsize=20)\n",
    "ax.set_ylabel('log10 ratio (Small Intestine / Stomach)', fontsize=20)\n",
    "ax.set_xscale('log')\n",
    "ax.set_xlim([0.001, 1e5])\n",
    "ax.set_ylim([-3, 4])\n",
    "plt.savefig('small_intestine_example.png', bbox_inches='tight', dpi=300)\n",
    "plt.show()"
   ]
  },
  {
   "cell_type": "code",
   "execution_count": null,
   "metadata": {},
   "outputs": [],
   "source": [
    "target_genes = expression_data[expression_data['log ratio'] > 1]\n",
    "target_genes = target_genes.sort_values(by=['expression'], ascending=False)\n",
    "target_genes"
   ]
  },
  {
   "cell_type": "markdown",
   "metadata": {},
   "source": [
    "# Getting information about a specific gene"
   ]
  },
  {
   "cell_type": "code",
   "execution_count": null,
   "metadata": {},
   "outputs": [],
   "source": [
    "# set up an object to describe genes\n",
    "describer = genemunge.describe.Describer('symbol')\n",
    "\n",
    "# get some basic information about one of the immune genes\n",
    "print(json.dumps(describer.get_gene_info(target_genes.index[0]), indent=2))\n",
    "\n",
    "# make a plot of the expression of one of the immune genes across tissues from GTEx\n",
    "describer.plot_tissue_expression(target_genes.index[0], sortby='median',\n",
    "                                 filename='gene_expr_example.png')"
   ]
  }
 ],
 "metadata": {
  "kernelspec": {
   "display_name": "Python 3",
   "language": "python",
   "name": "python3"
  },
  "language_info": {
   "codemirror_mode": {
    "name": "ipython",
    "version": 3
   },
   "file_extension": ".py",
   "mimetype": "text/x-python",
   "name": "python",
   "nbconvert_exporter": "python",
   "pygments_lexer": "ipython3",
   "version": "3.6.4"
  }
 },
 "nbformat": 4,
 "nbformat_minor": 2
}
